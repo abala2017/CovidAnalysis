{
 "cells": [
  {
   "cell_type": "code",
   "execution_count": 2,
   "metadata": {},
   "outputs": [],
   "source": [
    "import pandas as pd\n",
    "import matplotlib.pyplot as plt\n",
    "from matplotlib.pyplot import figure\n",
    "import glob\n",
    "import os\n",
    "import pickle"
   ]
  },
  {
   "cell_type": "code",
   "execution_count": 8,
   "metadata": {},
   "outputs": [
    {
     "name": "stdout",
     "output_type": "stream",
     "text": [
      "There are 2650987 Hashtags\n",
      "#COVID19 : 6389395\n",
      "#Covid19 : 1363982\n",
      "#WhatsHappeningInMyanmar : 996838\n",
      "#coronavirus : 870401\n",
      "#covid19 : 541283\n",
      "#Covid : 519697\n",
      "#COVID : 508050\n",
      "#Corona : 365665\n",
      "#Coronavirus : 352459\n",
      "#covid : 352016\n",
      "#lockdown : 310059\n",
      "#Omicron : 224479\n",
      "#vaccine : 218825\n",
      "#MyanmarNeedsO2 : 191375\n",
      "#Cuba : 175222\n",
      "#COVIDー19 : 170399\n",
      "#WearAMask : 147814\n",
      "#pandemic : 147482\n",
      "#BREAKING : 145849\n",
      "#July11Coup : 132116\n",
      "#vaccination : 121077\n",
      "#corona : 113514\n",
      "#StayHome : 113058\n",
      "#Lockdown : 109156\n",
      "#India : 107040\n",
      "#MyanmarCovidSOS : 105582\n",
      "#July10Coup : 95153\n",
      "#SARSCoV2 : 94083\n",
      "#CovidVaccine : 92050\n",
      "#Pfizer : 86149\n",
      "#SACWantsCovidUncontrollable : 85486\n",
      "#DeltaVariant : 84977\n",
      "#China : 81246\n",
      "#BTS : 74055\n",
      "#GetVaccinated : 73767\n",
      "#Delhi : 72577\n",
      "#PassSanitaire : 71993\n",
      "#AstraZeneca : 71867\n",
      "#EPEX : 71555\n",
      "#IndiaFightsCorona : 70768\n",
      "#StaySafe : 68671\n",
      "#FANB : 67454\n",
      "#DreadfulCovidAmidMilitaryCoup : 67425\n",
      "#Blood : 66418\n",
      "#Venezuela : 64614\n",
      "#Vaccine : 62788\n",
      "#CoronaVirus : 62749\n",
      "#LongCovid : 62418\n",
      "#COVID19India : 61366\n",
      "#GNB : 60625\n"
     ]
    }
   ],
   "source": [
    "## most commonly occurring hashtags\n",
    "tags_dict = pickle.load(open(\"hashtagValues.p\",\"rb\"))\n",
    "tags_dict = {k: v for k, v in sorted(tags_dict.items(), key=lambda item: item[1], reverse = True)}\n",
    "print(\"There are \"  + str(len(tags_dict))  + \" Hashtags\")\n",
    "count = 0\n",
    "for i in tags_dict.keys():\n",
    "    if(count == 50):\n",
    "        break\n",
    "    print(i + \" : \" + str(tags_dict[i]))\n",
    "    count = count + 1"
   ]
  },
  {
   "cell_type": "code",
   "execution_count": null,
   "metadata": {},
   "outputs": [],
   "source": []
  }
 ],
 "metadata": {
  "kernelspec": {
   "display_name": "Python 3",
   "language": "python",
   "name": "python3"
  },
  "language_info": {
   "codemirror_mode": {
    "name": "ipython",
    "version": 3
   },
   "file_extension": ".py",
   "mimetype": "text/x-python",
   "name": "python",
   "nbconvert_exporter": "python",
   "pygments_lexer": "ipython3",
   "version": "3.8.2"
  }
 },
 "nbformat": 4,
 "nbformat_minor": 4
}
