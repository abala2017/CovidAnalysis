{
 "cells": [
  {
   "cell_type": "code",
   "execution_count": 1,
   "metadata": {},
   "outputs": [
    {
     "name": "stderr",
     "output_type": "stream",
     "text": [
      "c:\\users\\abala\\appdata\\local\\programs\\python\\python38\\lib\\site-packages\\numpy\\_distributor_init.py:30: UserWarning: loaded more than 1 DLL from .libs:\n",
      "c:\\users\\abala\\appdata\\local\\programs\\python\\python38\\lib\\site-packages\\numpy\\.libs\\libopenblas.FB5AE2TYXYH2IJRDKGDGQ3XBKLKTF43H.gfortran-win_amd64.dll\n",
      "c:\\users\\abala\\appdata\\local\\programs\\python\\python38\\lib\\site-packages\\numpy\\.libs\\libopenblas.NOIJJG62EMASZI6NYURL6JBKM4EVBGM7.gfortran-win_amd64.dll\n",
      "  warnings.warn(\"loaded more than 1 DLL from .libs:\"\n"
     ]
    }
   ],
   "source": [
    "import pandas as pd\n",
    "import glob\n",
    "import os"
   ]
  },
  {
   "cell_type": "code",
   "execution_count": 2,
   "metadata": {},
   "outputs": [
    {
     "name": "stdout",
     "output_type": "stream",
     "text": [
      "2021_01\n",
      "0\n",
      "2021_02\n",
      "1609612\n",
      "2021_03\n",
      "2774364\n",
      "2021_04\n",
      "4185057\n",
      "2021_05\n",
      "5842498\n",
      "2021_06\n",
      "7432789\n",
      "2021_07\n",
      "8723580\n",
      "2021_08\n",
      "9915218\n",
      "2021_09\n",
      "11114535\n",
      "2021_10\n",
      "12059171\n",
      "2021_11\n",
      "12571832\n",
      "2021_12\n",
      "13340838\n"
     ]
    }
   ],
   "source": [
    "important_cols = [\"Tweet_ID\", \"Hastag\"]\n",
    "path = \"D:\\\\CovidTweets\\\\COVID19_Tweets_Dataset_2021\\\\Summary_Hashtag\"\n",
    "outputFile = 'Hashtag.csv'\n",
    "\n",
    "totDf = pd.DataFrame()\n",
    "for file in os.listdir(path):\n",
    "    dfDets = pd.DataFrame()\n",
    "    dfSent = pd.DataFrame()\n",
    "    d = os.path.join(path, file)\n",
    "    if os.path.isdir(d):\n",
    "        print(file)\n",
    "        print(len(totDf))\n",
    "        all_files = glob.glob(os.path.join(d, \"*.csv\"))\n",
    "        for f in all_files:\n",
    "            if(os.path.exists(f)):\n",
    "                fname = f.split('\\\\')[-1].split(\"_\")[3]\n",
    "                if fname == \"11\" or fname ==  \"12\" or fname == \"13\" or fname == \"14\" or fname == \"15\":\n",
    "                    dfDets = pd.read_csv(f)\n",
    "                    dfDets['Hastag'] = dfDets['Hastag'].str.lower()\n",
    "                    dfDets = dfDets[dfDets[\"Hastag\"] == '#covid19']\n",
    "                    totDf = pd.concat([totDf,dfDets], ignore_index = True)\n",
    "totDf.to_csv(outputFile,index=False)"
   ]
  },
  {
   "cell_type": "code",
   "execution_count": 3,
   "metadata": {},
   "outputs": [
    {
     "name": "stdout",
     "output_type": "stream",
     "text": [
      "2021_01\n",
      "0\n"
     ]
    },
    {
     "name": "stderr",
     "output_type": "stream",
     "text": [
      "c:\\users\\abala\\appdata\\local\\programs\\python\\python38\\lib\\site-packages\\IPython\\core\\interactiveshell.py:3139: DtypeWarning: Columns (6) have mixed types.Specify dtype option on import or set low_memory=False.\n",
      "  has_raised = await self.run_ast_nodes(code_ast.body, cell_name,\n"
     ]
    },
    {
     "name": "stdout",
     "output_type": "stream",
     "text": [
      "2021_02\n",
      "15000\n",
      "2021_03\n",
      "28907\n",
      "2021_04\n",
      "43307\n",
      "2021_05\n",
      "58307\n",
      "2021_06\n",
      "73114\n",
      "2021_07\n",
      "88114\n",
      "2021_08\n",
      "101714\n",
      "2021_09\n",
      "116614\n",
      "2021_10\n",
      "131614\n",
      "2021_11\n",
      "145114\n",
      "2021_12\n",
      "160114\n"
     ]
    }
   ],
   "source": [
    "rowsPerFile = 100 ## if not given(-1), use the whole file rather than a sample\n",
    "important_cols = [\"Tweet_ID\", \"Date Created\", \"Sentiment_Label\", \"Logits_Neutral\", \"Logits_Positive\", \"Logits_Negative\"]\n",
    "path = \"D:\\\\CovidTweets\\\\COVID19_Tweets_Dataset_2021\\\\Summary_Details\"\n",
    "outputFile = 'peaktweets.csv'\n",
    "hashtags = pd.read_csv(\"Hashtag.csv\")\n",
    "tagSet = set(hashtags['Tweet_ID'])\n",
    "\n",
    "totDf = pd.DataFrame()\n",
    "for file in os.listdir(path):\n",
    "    dfDets = pd.DataFrame()\n",
    "    dfSent = pd.DataFrame()\n",
    "    d = os.path.join(path, file)\n",
    "    if os.path.isdir(d):\n",
    "        print(file)\n",
    "        print(len(totDf))\n",
    "        all_files = glob.glob(os.path.join(d, \"*.csv\"))\n",
    "        for f in all_files:\n",
    "            nuF = f.replace('Details','Sentiment')\n",
    "            if(os.path.exists(nuF)):\n",
    "                fname = f.split('\\\\')[-1].split(\"_\")[3]\n",
    "                if fname == \"11\" or fname ==  \"12\" or fname == \"13\" or fname == \"14\" or fname == \"15\":\n",
    "                    dfDets = pd.read_csv(f)\n",
    "                    dfDets = dfDets[dfDets['Tweet_ID'].isin(tagSet)]\n",
    "                    if len(dfDets[dfDets[\"Language\"] == 'en']) > rowsPerFile:\n",
    "                        rowsToTake = rowsPerFile\n",
    "                    else:\n",
    "                        rowsToTake = len(dfDets[dfDets[\"Language\"] == 'en']) \n",
    "                    if rowsPerFile != -1:\n",
    "                        dfDets = dfDets[dfDets[\"Language\"] == 'en'].sample(n=rowsToTake, random_state=42)\n",
    "                    dfSent = pd.read_csv(nuF)\n",
    "                    totDf = pd.concat([totDf,pd.merge(dfDets,dfSent, how = 'inner',on='Tweet_ID')[important_cols]], ignore_index = True)\n",
    "totDf.to_csv(outputFile,index=False)"
   ]
  },
  {
   "cell_type": "code",
   "execution_count": null,
   "metadata": {},
   "outputs": [],
   "source": []
  }
 ],
 "metadata": {
  "kernelspec": {
   "display_name": "Python 3",
   "language": "python",
   "name": "python3"
  },
  "language_info": {
   "codemirror_mode": {
    "name": "ipython",
    "version": 3
   },
   "file_extension": ".py",
   "mimetype": "text/x-python",
   "name": "python",
   "nbconvert_exporter": "python",
   "pygments_lexer": "ipython3",
   "version": "3.8.2"
  }
 },
 "nbformat": 4,
 "nbformat_minor": 4
}
